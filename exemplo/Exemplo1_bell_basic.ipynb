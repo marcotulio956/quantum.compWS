{
 "cells": [
  {
   "cell_type": "markdown",
   "metadata": {},
   "source": [
    "# Exemplo de notebook\n",
    "\n",
    "Este notebook mostra como fazer as seguintes tarefas:\n",
    "\n",
    "1. Montar um circuito básico para gerar um dos estados de Bell\n",
    "2. Mostrar o circuito\n",
    "3. Simular e fazer o histograma da distribuição de probabilidades\n",
    "4. Rodar nos computadores quânticos da IBM (ibmqx2, ibmqx4 e ibmq_16_melbourne)\n",
    "\n",
    "**Atenção:** Para executar cada comando é necessário pressionar SHIFT-ENTER (o cursor deve estar na caixa correspondente). Para mais detalhes, pressionar ESC-h.\n"
   ]
  },
  {
   "cell_type": "code",
   "execution_count": 1,
   "metadata": {},
   "outputs": [],
   "source": [
    "from qiskit import *\n",
    "from qiskit.tools.monitor import job_monitor\n",
    "from qiskit.tools.visualization import plot_histogram"
   ]
  },
  {
   "cell_type": "code",
   "execution_count": 2,
   "metadata": {},
   "outputs": [
    {
     "data": {
      "text/plain": [
       "<qiskit.circuit.instructionset.InstructionSet at 0x2283add5f90>"
      ]
     },
     "execution_count": 2,
     "metadata": {},
     "output_type": "execute_result"
    }
   ],
   "source": [
    "### Montagem do circuito\n",
    "q = QuantumRegister(2)\n",
    "c = ClassicalRegister(2)\n",
    "circuito = QuantumCircuit(q, c)\n",
    "circuito.h(q[0])\n",
    "circuito.cx(q[0], q[1])\n",
    "circuito.measure(q[0], c[0])\n",
    "circuito.measure(q[1], c[1])"
   ]
  },
  {
   "cell_type": "code",
   "execution_count": 3,
   "metadata": {},
   "outputs": [
    {
     "ename": "MissingOptionalLibraryError",
     "evalue": "\"The 'pylatexenc' library is required to use 'MatplotlibDrawer'. You can install it with 'pip install pylatexenc'.\"",
     "output_type": "error",
     "traceback": [
      "\u001b[1;31m---------------------------------------------------------------------------\u001b[0m",
      "\u001b[1;31mMissingOptionalLibraryError\u001b[0m               Traceback (most recent call last)",
      "\u001b[1;32mc:\\Users\\Mark\\Documents\\MEGAsync\\CEFET\\quantum.progWS\\exemplo\\Exemplo1_bell_basic.ipynb Zelle 4\u001b[0m in \u001b[0;36m<cell line: 1>\u001b[1;34m()\u001b[0m\n\u001b[1;32m----> <a href='vscode-notebook-cell:/c%3A/Users/Mark/Documents/MEGAsync/CEFET/quantum.progWS/exemplo/Exemplo1_bell_basic.ipynb#W3sZmlsZQ%3D%3D?line=0'>1</a>\u001b[0m circuito\u001b[39m.\u001b[39;49mdraw(output\u001b[39m=\u001b[39;49m\u001b[39m'\u001b[39;49m\u001b[39mmpl\u001b[39;49m\u001b[39m'\u001b[39;49m)\n",
      "File \u001b[1;32mc:\\Users\\Mark\\AppData\\Local\\Programs\\Python\\Python310\\lib\\site-packages\\qiskit\\circuit\\quantumcircuit.py:1928\u001b[0m, in \u001b[0;36mQuantumCircuit.draw\u001b[1;34m(self, output, scale, filename, style, interactive, plot_barriers, reverse_bits, justify, vertical_compression, idle_wires, with_layout, fold, ax, initial_state, cregbundle)\u001b[0m\n\u001b[0;32m   1925\u001b[0m \u001b[39m# pylint: disable=cyclic-import\u001b[39;00m\n\u001b[0;32m   1926\u001b[0m \u001b[39mfrom\u001b[39;00m \u001b[39mqiskit\u001b[39;00m\u001b[39m.\u001b[39;00m\u001b[39mvisualization\u001b[39;00m \u001b[39mimport\u001b[39;00m circuit_drawer\n\u001b[1;32m-> 1928\u001b[0m \u001b[39mreturn\u001b[39;00m circuit_drawer(\n\u001b[0;32m   1929\u001b[0m     \u001b[39mself\u001b[39;49m,\n\u001b[0;32m   1930\u001b[0m     scale\u001b[39m=\u001b[39;49mscale,\n\u001b[0;32m   1931\u001b[0m     filename\u001b[39m=\u001b[39;49mfilename,\n\u001b[0;32m   1932\u001b[0m     style\u001b[39m=\u001b[39;49mstyle,\n\u001b[0;32m   1933\u001b[0m     output\u001b[39m=\u001b[39;49moutput,\n\u001b[0;32m   1934\u001b[0m     interactive\u001b[39m=\u001b[39;49minteractive,\n\u001b[0;32m   1935\u001b[0m     plot_barriers\u001b[39m=\u001b[39;49mplot_barriers,\n\u001b[0;32m   1936\u001b[0m     reverse_bits\u001b[39m=\u001b[39;49mreverse_bits,\n\u001b[0;32m   1937\u001b[0m     justify\u001b[39m=\u001b[39;49mjustify,\n\u001b[0;32m   1938\u001b[0m     vertical_compression\u001b[39m=\u001b[39;49mvertical_compression,\n\u001b[0;32m   1939\u001b[0m     idle_wires\u001b[39m=\u001b[39;49midle_wires,\n\u001b[0;32m   1940\u001b[0m     with_layout\u001b[39m=\u001b[39;49mwith_layout,\n\u001b[0;32m   1941\u001b[0m     fold\u001b[39m=\u001b[39;49mfold,\n\u001b[0;32m   1942\u001b[0m     ax\u001b[39m=\u001b[39;49max,\n\u001b[0;32m   1943\u001b[0m     initial_state\u001b[39m=\u001b[39;49minitial_state,\n\u001b[0;32m   1944\u001b[0m     cregbundle\u001b[39m=\u001b[39;49mcregbundle,\n\u001b[0;32m   1945\u001b[0m )\n",
      "File \u001b[1;32mc:\\Users\\Mark\\AppData\\Local\\Programs\\Python\\Python310\\lib\\site-packages\\qiskit\\visualization\\circuit_visualization.py:231\u001b[0m, in \u001b[0;36mcircuit_drawer\u001b[1;34m(circuit, scale, filename, style, output, interactive, plot_barriers, reverse_bits, justify, vertical_compression, idle_wires, with_layout, fold, ax, initial_state, cregbundle)\u001b[0m\n\u001b[0;32m    217\u001b[0m     \u001b[39mreturn\u001b[39;00m _generate_latex_source(\n\u001b[0;32m    218\u001b[0m         circuit,\n\u001b[0;32m    219\u001b[0m         filename\u001b[39m=\u001b[39mfilename,\n\u001b[1;32m   (...)\u001b[0m\n\u001b[0;32m    228\u001b[0m         cregbundle\u001b[39m=\u001b[39mcregbundle,\n\u001b[0;32m    229\u001b[0m     )\n\u001b[0;32m    230\u001b[0m \u001b[39melif\u001b[39;00m output \u001b[39m==\u001b[39m \u001b[39m\"\u001b[39m\u001b[39mmpl\u001b[39m\u001b[39m\"\u001b[39m:\n\u001b[1;32m--> 231\u001b[0m     image \u001b[39m=\u001b[39m _matplotlib_circuit_drawer(\n\u001b[0;32m    232\u001b[0m         circuit,\n\u001b[0;32m    233\u001b[0m         scale\u001b[39m=\u001b[39;49mscale,\n\u001b[0;32m    234\u001b[0m         filename\u001b[39m=\u001b[39;49mfilename,\n\u001b[0;32m    235\u001b[0m         style\u001b[39m=\u001b[39;49mstyle,\n\u001b[0;32m    236\u001b[0m         plot_barriers\u001b[39m=\u001b[39;49mplot_barriers,\n\u001b[0;32m    237\u001b[0m         reverse_bits\u001b[39m=\u001b[39;49mreverse_bits,\n\u001b[0;32m    238\u001b[0m         justify\u001b[39m=\u001b[39;49mjustify,\n\u001b[0;32m    239\u001b[0m         idle_wires\u001b[39m=\u001b[39;49midle_wires,\n\u001b[0;32m    240\u001b[0m         with_layout\u001b[39m=\u001b[39;49mwith_layout,\n\u001b[0;32m    241\u001b[0m         fold\u001b[39m=\u001b[39;49mfold,\n\u001b[0;32m    242\u001b[0m         ax\u001b[39m=\u001b[39;49max,\n\u001b[0;32m    243\u001b[0m         initial_state\u001b[39m=\u001b[39;49minitial_state,\n\u001b[0;32m    244\u001b[0m         cregbundle\u001b[39m=\u001b[39;49mcregbundle,\n\u001b[0;32m    245\u001b[0m     )\n\u001b[0;32m    246\u001b[0m \u001b[39melse\u001b[39;00m:\n\u001b[0;32m    247\u001b[0m     \u001b[39mraise\u001b[39;00m VisualizationError(\n\u001b[0;32m    248\u001b[0m         \u001b[39m\"\u001b[39m\u001b[39mInvalid output type \u001b[39m\u001b[39m%s\u001b[39;00m\u001b[39m selected. The only valid choices \u001b[39m\u001b[39m\"\u001b[39m\n\u001b[0;32m    249\u001b[0m         \u001b[39m\"\u001b[39m\u001b[39mare text, latex, latex_source, and mpl\u001b[39m\u001b[39m\"\u001b[39m \u001b[39m%\u001b[39m output\n\u001b[0;32m    250\u001b[0m     )\n",
      "File \u001b[1;32mc:\\Users\\Mark\\AppData\\Local\\Programs\\Python\\Python310\\lib\\site-packages\\qiskit\\visualization\\circuit_visualization.py:581\u001b[0m, in \u001b[0;36m_matplotlib_circuit_drawer\u001b[1;34m(circuit, scale, filename, style, plot_barriers, reverse_bits, justify, idle_wires, with_layout, fold, ax, initial_state, cregbundle)\u001b[0m\n\u001b[0;32m    578\u001b[0m \u001b[39mif\u001b[39;00m fold \u001b[39mis\u001b[39;00m \u001b[39mNone\u001b[39;00m:\n\u001b[0;32m    579\u001b[0m     fold \u001b[39m=\u001b[39m \u001b[39m25\u001b[39m\n\u001b[1;32m--> 581\u001b[0m qcd \u001b[39m=\u001b[39m _matplotlib\u001b[39m.\u001b[39;49mMatplotlibDrawer(\n\u001b[0;32m    582\u001b[0m     qubits,\n\u001b[0;32m    583\u001b[0m     clbits,\n\u001b[0;32m    584\u001b[0m     nodes,\n\u001b[0;32m    585\u001b[0m     scale\u001b[39m=\u001b[39;49mscale,\n\u001b[0;32m    586\u001b[0m     style\u001b[39m=\u001b[39;49mstyle,\n\u001b[0;32m    587\u001b[0m     reverse_bits\u001b[39m=\u001b[39;49mreverse_bits,\n\u001b[0;32m    588\u001b[0m     plot_barriers\u001b[39m=\u001b[39;49mplot_barriers,\n\u001b[0;32m    589\u001b[0m     layout\u001b[39m=\u001b[39;49m\u001b[39mNone\u001b[39;49;00m,\n\u001b[0;32m    590\u001b[0m     fold\u001b[39m=\u001b[39;49mfold,\n\u001b[0;32m    591\u001b[0m     ax\u001b[39m=\u001b[39;49max,\n\u001b[0;32m    592\u001b[0m     initial_state\u001b[39m=\u001b[39;49minitial_state,\n\u001b[0;32m    593\u001b[0m     cregbundle\u001b[39m=\u001b[39;49mcregbundle,\n\u001b[0;32m    594\u001b[0m     global_phase\u001b[39m=\u001b[39;49m\u001b[39mNone\u001b[39;49;00m,\n\u001b[0;32m    595\u001b[0m     calibrations\u001b[39m=\u001b[39;49m\u001b[39mNone\u001b[39;49;00m,\n\u001b[0;32m    596\u001b[0m     qregs\u001b[39m=\u001b[39;49m\u001b[39mNone\u001b[39;49;00m,\n\u001b[0;32m    597\u001b[0m     cregs\u001b[39m=\u001b[39;49m\u001b[39mNone\u001b[39;49;00m,\n\u001b[0;32m    598\u001b[0m     with_layout\u001b[39m=\u001b[39;49mwith_layout,\n\u001b[0;32m    599\u001b[0m     circuit\u001b[39m=\u001b[39;49mcircuit,\n\u001b[0;32m    600\u001b[0m )\n\u001b[0;32m    601\u001b[0m \u001b[39mreturn\u001b[39;00m qcd\u001b[39m.\u001b[39mdraw(filename)\n",
      "File \u001b[1;32mc:\\Users\\Mark\\AppData\\Local\\Programs\\Python\\Python310\\lib\\site-packages\\qiskit\\utils\\classtools.py:117\u001b[0m, in \u001b[0;36m_WrappedMethod.__get__.<locals>.out\u001b[1;34m(*args, **kwargs)\u001b[0m\n\u001b[0;32m    115\u001b[0m \u001b[39mfor\u001b[39;00m callback \u001b[39min\u001b[39;00m \u001b[39mself\u001b[39m\u001b[39m.\u001b[39m_before:\n\u001b[0;32m    116\u001b[0m     callback\u001b[39m.\u001b[39m\u001b[39m__get__\u001b[39m(obj, objtype)(\u001b[39m*\u001b[39margs, \u001b[39m*\u001b[39m\u001b[39m*\u001b[39mkwargs)\n\u001b[1;32m--> 117\u001b[0m retval \u001b[39m=\u001b[39m method(\u001b[39m*\u001b[39margs, \u001b[39m*\u001b[39m\u001b[39m*\u001b[39mkwargs)\n\u001b[0;32m    118\u001b[0m \u001b[39mfor\u001b[39;00m callback \u001b[39min\u001b[39;00m \u001b[39mself\u001b[39m\u001b[39m.\u001b[39m_after:\n\u001b[0;32m    119\u001b[0m     callback\u001b[39m.\u001b[39m\u001b[39m__get__\u001b[39m(obj, objtype)(\u001b[39m*\u001b[39margs, \u001b[39m*\u001b[39m\u001b[39m*\u001b[39mkwargs)\n",
      "File \u001b[1;32mc:\\Users\\Mark\\AppData\\Local\\Programs\\Python\\Python310\\lib\\site-packages\\qiskit\\utils\\classtools.py:116\u001b[0m, in \u001b[0;36m_WrappedMethod.__get__.<locals>.out\u001b[1;34m(*args, **kwargs)\u001b[0m\n\u001b[0;32m    113\u001b[0m \u001b[39m@functools\u001b[39m\u001b[39m.\u001b[39mwraps(method)\n\u001b[0;32m    114\u001b[0m \u001b[39mdef\u001b[39;00m \u001b[39mout\u001b[39m(\u001b[39m*\u001b[39margs, \u001b[39m*\u001b[39m\u001b[39m*\u001b[39mkwargs):\n\u001b[0;32m    115\u001b[0m     \u001b[39mfor\u001b[39;00m callback \u001b[39min\u001b[39;00m \u001b[39mself\u001b[39m\u001b[39m.\u001b[39m_before:\n\u001b[1;32m--> 116\u001b[0m         callback\u001b[39m.\u001b[39m\u001b[39m__get__\u001b[39m(obj, objtype)(\u001b[39m*\u001b[39margs, \u001b[39m*\u001b[39m\u001b[39m*\u001b[39mkwargs)\n\u001b[0;32m    117\u001b[0m     retval \u001b[39m=\u001b[39m method(\u001b[39m*\u001b[39margs, \u001b[39m*\u001b[39m\u001b[39m*\u001b[39mkwargs)\n\u001b[0;32m    118\u001b[0m     \u001b[39mfor\u001b[39;00m callback \u001b[39min\u001b[39;00m \u001b[39mself\u001b[39m\u001b[39m.\u001b[39m_after:\n",
      "File \u001b[1;32mc:\\Users\\Mark\\AppData\\Local\\Programs\\Python\\Python310\\lib\\site-packages\\qiskit\\utils\\lazy_tester.py:39\u001b[0m, in \u001b[0;36m_RequireNow.__call__\u001b[1;34m(self, *_args, **_kwargs)\u001b[0m\n\u001b[0;32m     38\u001b[0m \u001b[39mdef\u001b[39;00m \u001b[39m__call__\u001b[39m(\u001b[39mself\u001b[39m, \u001b[39m*\u001b[39m_args, \u001b[39m*\u001b[39m\u001b[39m*\u001b[39m_kwargs):\n\u001b[1;32m---> 39\u001b[0m     \u001b[39mself\u001b[39;49m\u001b[39m.\u001b[39;49m_tester\u001b[39m.\u001b[39;49mrequire_now(\u001b[39mself\u001b[39;49m\u001b[39m.\u001b[39;49m_feature)\n",
      "File \u001b[1;32mc:\\Users\\Mark\\AppData\\Local\\Programs\\Python\\Python310\\lib\\site-packages\\qiskit\\utils\\lazy_tester.py:223\u001b[0m, in \u001b[0;36mLazyDependencyManager.require_now\u001b[1;34m(self, feature)\u001b[0m\n\u001b[0;32m    221\u001b[0m \u001b[39mif\u001b[39;00m \u001b[39mself\u001b[39m:\n\u001b[0;32m    222\u001b[0m     \u001b[39mreturn\u001b[39;00m\n\u001b[1;32m--> 223\u001b[0m \u001b[39mraise\u001b[39;00m MissingOptionalLibraryError(\n\u001b[0;32m    224\u001b[0m     libname\u001b[39m=\u001b[39m\u001b[39mself\u001b[39m\u001b[39m.\u001b[39m_name, name\u001b[39m=\u001b[39mfeature, pip_install\u001b[39m=\u001b[39m\u001b[39mself\u001b[39m\u001b[39m.\u001b[39m_install, msg\u001b[39m=\u001b[39m\u001b[39mself\u001b[39m\u001b[39m.\u001b[39m_msg\n\u001b[0;32m    225\u001b[0m )\n",
      "\u001b[1;31mMissingOptionalLibraryError\u001b[0m: \"The 'pylatexenc' library is required to use 'MatplotlibDrawer'. You can install it with 'pip install pylatexenc'.\""
     ]
    }
   ],
   "source": [
    "circuito.draw(output='mpl')\n",
    "#circuito.draw(output='latex')  # segunda opção para visualizar o circuito\n",
    "#print(circuito)  # terceira opção para visualizar o circuito"
   ]
  },
  {
   "cell_type": "code",
   "execution_count": null,
   "metadata": {},
   "outputs": [],
   "source": [
    "## comando para gerar o código QASM do circuito\n",
    "# print(circuito.qasm())"
   ]
  },
  {
   "cell_type": "code",
   "execution_count": null,
   "metadata": {},
   "outputs": [
    {
     "name": "stdout",
     "output_type": "stream",
     "text": [
      "{'00': 503, '11': 521}\n"
     ]
    }
   ],
   "source": [
    "### Comandos para simular a saída do circuito\n",
    "simulador = BasicAer.get_backend('qasm_simulator')\n",
    "job1 = execute(circuito, simulador, shots=1024)\n",
    "resultado1 = job1.result()\n",
    "contagem1 = resultado1.get_counts()\n",
    "print(contagem1)"
   ]
  },
  {
   "cell_type": "code",
   "execution_count": null,
   "metadata": {},
   "outputs": [
    {
     "data": {
      "image/png": "[encoded data removed]",
      "text/plain": [
       "<Figure size 504x360 with 1 Axes>"
      ]
     },
     "execution_count": 6,
     "metadata": {},
     "output_type": "execute_result"
    }
   ],
   "source": [
    "plot_histogram(contagem1)"
   ]
  },
  {
   "cell_type": "code",
   "execution_count": null,
   "metadata": {},
   "outputs": [],
   "source": [
    "\n",
    "### Este comando deve ser usado uma única vez, pois o valor do token ficará gravado so seu laptop.\n",
    "### Vá na página do IBM Q Experience, clique no seu usuário (boneco no alto a direita) para entrar na sua conta. \n",
    "### Copie o 'API Token' e cole no comando abaixo.\n",
    "from qiskit import IBMQ\n",
    "#IBMQ.save_account('')"
   ]
  },
  {
   "cell_type": "code",
   "execution_count": null,
   "metadata": {},
   "outputs": [],
   "source": [
    "### Este comando só vai funcionar se você conseguiu ter sucesso no comando anterior.\n",
    "### Este comando deve ser dado toda vez que abrir este notebook\n",
    "from qiskit import IBMQ\n",
    "provedor = IBMQ.load_account()"
   ]
  },
  {
   "cell_type": "code",
   "execution_count": null,
   "metadata": {},
   "outputs": [
    {
     "name": "stdout",
     "output_type": "stream",
     "text": [
      "name                           operational     pending_jobs\n",
      " \n",
      "ibmq_qasm_simulator                  True    2\n",
      "ibmq_armonk                          True    1\n",
      "ibmq_santiago                        False    2031\n",
      "ibmq_bogota                          True    78\n",
      "ibmq_lima                            True    77\n",
      "ibmq_belem                           True    24\n",
      "ibmq_quito                           True    26\n",
      "simulator_statevector                True    3\n",
      "simulator_mps                        True    3\n",
      "simulator_extended_stabilizer        True    3\n",
      "simulator_stabilizer                 True    3\n",
      "ibmq_manila                          True    370\n"
     ]
    }
   ],
   "source": [
    "### Lista das máquinas disponíveis e o número de jobs na fila. \n",
    "print('name',' '*25,'operational','   ', 'pending_jobs')\n",
    "print(' ')\n",
    "for backend in provedor.backends():\n",
    "    name = backend.name()\n",
    "    print(name,' '*(35-len(name)),backend.status().operational,'  ',backend.status().pending_jobs)"
   ]
  },
  {
   "cell_type": "code",
   "execution_count": null,
   "metadata": {},
   "outputs": [
    {
     "name": "stdout",
     "output_type": "stream",
     "text": [
      "Job Status: job has successfully run\n",
      "{'00': 503, '01': 29, '10': 57, '11': 435}\n"
     ]
    }
   ],
   "source": [
    "### O comando get_backend seleciona o backend\n",
    "### O comando execute executa o circuito no backend escolhido\n",
    "### O job entra na fila. A espera pode demorar MUITAS HORAS.\n",
    "### O comando job_monitor mostra a posição em tempo real.\n",
    "### Se a conexão com a internet for interrompida, o job é cancelado.\n",
    "maquina = provedor.get_backend('ibmq_belem')\n",
    "job2 = execute(circuito, maquina, shots=1024)\n",
    "job_monitor(job2)\n",
    "resultado2 = job2.result()\n",
    "contagem2 = resultado2.get_counts()\n",
    "print(contagem2)"
   ]
  },
  {
   "cell_type": "code",
   "execution_count": null,
   "metadata": {},
   "outputs": [
    {
     "data": {
      "image/png": "[encoded data removed]",
      "text/plain": [
       "<Figure size 504x360 with 1 Axes>"
      ]
     },
     "execution_count": 11,
     "metadata": {},
     "output_type": "execute_result"
    }
   ],
   "source": [
    "plot_histogram(contagem2)"
   ]
  },
  {
   "cell_type": "code",
   "execution_count": null,
   "metadata": {},
   "outputs": [
    {
     "data": {
      "image/png": "[encoded data removed]",
      "text/plain": [
       "<Figure size 504x360 with 1 Axes>"
      ]
     },
     "execution_count": 12,
     "metadata": {},
     "output_type": "execute_result"
    }
   ],
   "source": [
    "plot_histogram([contagem1,contagem2])"
   ]
  },
  {
   "cell_type": "code",
   "execution_count": null,
   "metadata": {},
   "outputs": [],
   "source": []
  }
 ],
 "metadata": {
  "kernelspec": {
   "display_name": "Python 3.10.5 64-bit",
   "language": "python",
   "name": "python3"
  },
  "language_info": {
   "codemirror_mode": {
    "name": "ipython",
    "version": 3
   },
   "file_extension": ".py",
   "mimetype": "text/x-python",
   "name": "python",
   "nbconvert_exporter": "python",
   "pygments_lexer": "ipython3",
   "version": "3.10.5"
  },
  "vscode": {
   "interpreter": {
    "hash": "bebf9730dc43cfbc35fb329a82a69476f49cde6de038a2bbfc26f12404ad85fb"
   }
  }
 },
 "nbformat": 4,
 "nbformat_minor": 2
}
