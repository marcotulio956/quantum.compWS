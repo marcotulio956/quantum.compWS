{
 "cells": [
  {
   "cell_type": "markdown",
   "id": "41e79230-19c2-4fb5-9fa5-72ffdf29878a",
   "metadata": {},
   "source": [
    "Programando no Qiskit"
   ]
  },
  {
   "cell_type": "code",
   "execution_count": 2,
   "id": "c9fae120-60f0-429f-a09b-4facd05d88eb",
   "metadata": {},
   "outputs": [],
   "source": [
    "from qiskit import*"
   ]
  },
  {
   "cell_type": "markdown",
   "id": "a4648955-e5e8-4d07-b1a0-7f198d29b346",
   "metadata": {},
   "source": [
    "Estado de Bell"
   ]
  },
  {
   "cell_type": "code",
   "execution_count": 3,
   "id": "e9ce4132-fc72-4250-a2b1-272a53854019",
   "metadata": {},
   "outputs": [
    {
     "data": {
      "image/png": "[encoded data removed]",
      "text/plain": [
       "<Figure size 129.533x204.68 with 1 Axes>"
      ]
     },
     "execution_count": 3,
     "metadata": {},
     "output_type": "execute_result"
    }
   ],
   "source": [
    "reg_quantico = QuantumRegister(2)\n",
    "reg_classico = ClassicalRegister(2)\n",
    "circuit = QuantumCircuit(reg_quantico,reg_classico)\n",
    "\n",
    "%matplotlib inline\n",
    "circuit.draw()"
   ]
  },
  {
   "cell_type": "markdown",
   "id": "271e011b-62af-4099-8b9a-9cd0008f756f",
   "metadata": {},
   "source": [
    "Criando o emaramento- 1) passo: Aplicar a porta de Hadamard"
   ]
  },
  {
   "cell_type": "code",
   "execution_count": 4,
   "id": "a066a8df-46e1-4b33-960c-772f54258214",
   "metadata": {},
   "outputs": [
    {
     "data": {
      "image/png": "[encoded data removed]",
      "text/plain": [
       "<Figure size 159.633x204.68 with 1 Axes>"
      ]
     },
     "execution_count": 4,
     "metadata": {},
     "output_type": "execute_result"
    }
   ],
   "source": [
    "circuit.h(reg_quantico[0])\n",
    "circuit.draw()"
   ]
  },
  {
   "cell_type": "markdown",
   "id": "48cba033-f49b-4b6e-a00f-47adb654e858",
   "metadata": {},
   "source": [
    "2) Passo: Aplicar uma porta CNOT"
   ]
  },
  {
   "cell_type": "code",
   "execution_count": 5,
   "id": "eb01db26-8eb3-425f-9c02-e0648942b472",
   "metadata": {},
   "outputs": [
    {
     "data": {
      "text/plain": [
       "<qiskit.circuit.instructionset.InstructionSet at 0x7fc9cb1473a0>"
      ]
     },
     "execution_count": 5,
     "metadata": {},
     "output_type": "execute_result"
    }
   ],
   "source": [
    "circuit.cx(reg_quantico[0],reg_quantico[1])\n"
   ]
  },
  {
   "cell_type": "code",
   "execution_count": 6,
   "id": "92fc635c-52e6-4345-8e21-6d70338d5650",
   "metadata": {},
   "outputs": [
    {
     "data": {
      "image/png": "[encoded data removed]",
      "text/plain": [
       "<Figure size 219.833x204.68 with 1 Axes>"
      ]
     },
     "execution_count": 6,
     "metadata": {},
     "output_type": "execute_result"
    }
   ],
   "source": [
    "circuit.draw()"
   ]
  },
  {
   "cell_type": "markdown",
   "id": "2a3c8d3f-7f90-4cf1-a6d1-844889b41c60",
   "metadata": {},
   "source": [
    "3) passo: Mediçao"
   ]
  },
  {
   "cell_type": "code",
   "execution_count": 7,
   "id": "d58cc2e2-da59-4b3d-a349-50ff5760a9db",
   "metadata": {},
   "outputs": [
    {
     "data": {
      "image/png": "[encoded data removed]",
      "text/plain": [
       "<Figure size 340.233x204.68 with 1 Axes>"
      ]
     },
     "execution_count": 7,
     "metadata": {},
     "output_type": "execute_result"
    }
   ],
   "source": [
    "circuit.measure(reg_quantico,reg_classico)\n",
    "circuit.draw()"
   ]
  },
  {
   "cell_type": "markdown",
   "id": "c89d0cec-2c51-4469-ae5b-7ed051caf592",
   "metadata": {},
   "source": [
    "1) Alternativa: Simular um circuito qunatico em um computador clássico"
   ]
  },
  {
   "cell_type": "code",
   "execution_count": 8,
   "id": "f4c6409f-176f-4c37-add9-cca337c0bce1",
   "metadata": {},
   "outputs": [
    {
     "data": {
      "text/plain": [
       "<qiskit.providers.aer.jobs.aerjob.AerJob at 0x7fc9c4d80c10>"
      ]
     },
     "execution_count": 8,
     "metadata": {},
     "output_type": "execute_result"
    }
   ],
   "source": [
    "simulador = Aer.get_backend('qasm_simulator')\n",
    "execute(circuit, backend = simulador)"
   ]
  },
  {
   "cell_type": "code",
   "execution_count": 12,
   "id": "dcfcabfa-baf7-483d-af07-1bfbdca50c2d",
   "metadata": {},
   "outputs": [],
   "source": [
    "result = execute(circuit, backend = simulador).result()"
   ]
  },
  {
   "cell_type": "code",
   "execution_count": 16,
   "id": "c42d88d5-f806-421e-85ea-2f052f887442",
   "metadata": {},
   "outputs": [],
   "source": [
    "from  qiskit .tools.visualization import plot_histogram"
   ]
  },
  {
   "cell_type": "code",
   "execution_count": 15,
   "id": "fa896b7f-ea26-48be-b366-fd45a04f655e",
   "metadata": {},
   "outputs": [
    {
     "data": {
      "image/png": "[encoded data removed]",
      "text/plain": [
       "<Figure size 504x360 with 1 Axes>"
      ]
     },
     "execution_count": 15,
     "metadata": {},
     "output_type": "execute_result"
    }
   ],
   "source": [
    "counts = result. get_counts()\n",
    "plot_histogram(counts)"
   ]
  },
  {
   "cell_type": "markdown",
   "id": "eb3a8330-542b-4daf-b631-5ba6fe3f6d60",
   "metadata": {},
   "source": [
    "2) Simular um circuito quantico em uma dispositivo da IBM Q"
   ]
  },
  {
   "cell_type": "code",
   "execution_count": 19,
   "id": "96b98cff-8912-493e-afc4-219562f438fe",
   "metadata": {},
   "outputs": [
    {
     "name": "stderr",
     "output_type": "stream",
     "text": [
      "ibmqfactory.load_account:WARNING:2021-10-26 20:54:24,743: Credentials are already in use. The existing account in the session will be replaced.\n"
     ]
    }
   ],
   "source": [
    "IBMQ.load_account()\n",
    "provider = IBMQ.get_provider('ibm-q')\n",
    "comp_quantico = provider.get_backend('ibmq_quito')"
   ]
  },
  {
   "cell_type": "code",
   "execution_count": 23,
   "id": "75221371-0a8c-4a4f-9a90-e86e2ac0e26f",
   "metadata": {},
   "outputs": [],
   "source": [
    "job = execute(circuit, backend = comp_quantico)"
   ]
  },
  {
   "cell_type": "code",
   "execution_count": 21,
   "id": "4c7fe619-2a3f-4aed-ba86-184dc17086e8",
   "metadata": {},
   "outputs": [],
   "source": [
    "from qiskit.tools.monitor import job_monitor"
   ]
  },
  {
   "cell_type": "code",
   "execution_count": 22,
   "id": "c84775ca-5bea-48c2-b857-a3444106f7d0",
   "metadata": {},
   "outputs": [
    {
     "name": "stdout",
     "output_type": "stream",
     "text": [
      "Job Status: job has successfully run\n"
     ]
    }
   ],
   "source": [
    "job_monitor(job)\n",
    "result = job.result()"
   ]
  },
  {
   "cell_type": "code",
   "execution_count": 25,
   "id": "1da3cbba-2a74-423b-b25a-85e037a77e43",
   "metadata": {},
   "outputs": [
    {
     "data": {
      "image/png": "[encoded data removed]",
      "text/plain": [
       "<Figure size 504x360 with 1 Axes>"
      ]
     },
     "execution_count": 25,
     "metadata": {},
     "output_type": "execute_result"
    }
   ],
   "source": [
    "plot_histogram(result.get_counts(circuit))"
   ]
  },
  {
   "cell_type": "code",
   "execution_count": null,
   "id": "dcece22d-fcc9-4917-8bd5-af97fe5da382",
   "metadata": {},
   "outputs": [],
   "source": []
  },
  {
   "cell_type": "code",
   "execution_count": null,
   "id": "eba5c32a-4a6a-460d-b985-043759a1da5e",
   "metadata": {},
   "outputs": [],
   "source": []
  },
  {
   "cell_type": "code",
   "execution_count": null,
   "id": "a89747ed-1448-4f4d-92af-dad75dc3323d",
   "metadata": {},
   "outputs": [],
   "source": []
  }
 ],
 "metadata": {
  "kernelspec": {
   "display_name": "Python 3.10.5 64-bit",
   "language": "python",
   "name": "python3"
  },
  "language_info": {
   "codemirror_mode": {
    "name": "ipython",
    "version": 3
   },
   "file_extension": ".py",
   "mimetype": "text/x-python",
   "name": "python",
   "nbconvert_exporter": "python",
   "pygments_lexer": "ipython3",
   "version": "3.10.5"
  },
  "vscode": {
   "interpreter": {
    "hash": "bebf9730dc43cfbc35fb329a82a69476f49cde6de038a2bbfc26f12404ad85fb"
   }
  },
  "widgets": {
   "application/vnd.jupyter.widget-state+json": {
    "state": {},
    "version_major": 2,
    "version_minor": 0
   }
  }
 },
 "nbformat": 4,
 "nbformat_minor": 5
}
