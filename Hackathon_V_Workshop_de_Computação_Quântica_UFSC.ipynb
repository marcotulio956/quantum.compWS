{
  "cells": [
    {
      "cell_type": "markdown",
      "metadata": {
        "id": "view-in-github",
        "colab_type": "text"
      },
      "source": [
        "<a href=\"https://colab.research.google.com/github/marcotulio956/quantum.compWS/blob/master/Hackathon_V_Workshop_de_Computa%C3%A7%C3%A3o_Qu%C3%A2ntica_UFSC.ipynb\" target=\"_parent\"><img src=\"https://colab.research.google.com/assets/colab-badge.svg\" alt=\"Open In Colab\"/></a>"
      ]
    },
    {
      "cell_type": "markdown",
      "metadata": {
        "id": "2sZxD-WzHVw7"
      },
      "source": [
        "# [Hackathon - V Workshop de Computação Quântica - UFSC](https://workshop-cq.ufsc.br/2022/#hackathon)\n",
        "\n"
      ]
    },
    {
      "cell_type": "code",
      "execution_count": null,
      "metadata": {
        "colab": {
          "base_uri": "https://localhost:8080/"
        },
        "id": "dTm2HP2TrSGs",
        "outputId": "dc82b4a1-9046-4eca-b5f2-75fcc70e857a"
      },
      "outputs": [
        {
          "output_type": "stream",
          "name": "stdout",
          "text": [
            "  Installing build dependencies ... \u001b[?25l\u001b[?25hdone\n",
            "  Getting requirements to build wheel ... \u001b[?25l\u001b[?25hdone\n",
            "    Preparing wheel metadata ... \u001b[?25l\u001b[?25hdone\n",
            "Ket 0.4.1.post1\n"
          ]
        }
      ],
      "source": [
        "!pip install git+https://gitlab.com/evandro-crr/shor-ket.git -q\n",
        "!ket --version\n",
        "from ket import *"
      ]
    },
    {
      "cell_type": "markdown",
      "metadata": {
        "id": "59P0dM44H9Br"
      },
      "source": [
        "----------------\n",
        "Exemplo de implementação da sub-rotina quântica do algoritmo de fatoração de Shor."
      ]
    },
    {
      "cell_type": "code",
      "execution_count": null,
      "metadata": {
        "id": "hof54zYztyOY"
      },
      "outputs": [],
      "source": [
        "def quantum_subroutine_example(N, x):\n",
        "    from ket.lib import qft\n",
        "    from ket.plugins import pown\n",
        "    from functools import reduce\n",
        "    from math import gcd\n",
        "\n",
        "    n = N.bit_length()\n",
        "\n",
        "    def subroutine():\n",
        "        reg1 = H(quant(n))\n",
        "        reg2 = pown(x, reg1, N) # Lembre que não é premitido usar o plugin pown\n",
        "        adj(qft, reg1)\n",
        "        return measure(reg1).value\n",
        "\n",
        "    r = reduce(gcd, [subroutine() for _ in range(n)])\n",
        "    return 2**n//r"
      ]
    },
    {
      "cell_type": "markdown",
      "metadata": {
        "id": "V8hT-N1iIMDV"
      },
      "source": [
        "-------------"
      ]
    },
    {
      "cell_type": "code",
      "execution_count": null,
      "metadata": {
        "colab": {
          "base_uri": "https://localhost:8080/"
        },
        "id": "K-_t4KWiIRoK",
        "outputId": "8215618f-885f-4c72-e898-c815ebdd8536"
      },
      "outputs": [
        {
          "output_type": "stream",
          "name": "stdout",
          "text": [
            "Shor's algorithm: 1135=5x227\t(0min 26.65s; 03/10/2022 09:58:40)\n"
          ]
        }
      ],
      "source": [
        "# Esta célula será usada para avaliar sua solução\n",
        "from shor import shor\n",
        "\n",
        "N = 1135\n",
        "p = shor(N, quantum_subroutine_example, quantum=True, verbose=True)\n",
        "q = N//p\n",
        "assert(N == p * q)"
      ]
    },
    {
      "cell_type": "code",
      "execution_count": null,
      "metadata": {
        "id": "x0Db6LyhIzoG"
      },
      "outputs": [],
      "source": [
        "from shor import is_prime\n",
        "assert(is_prime(p) and is_prime(q))"
      ]
    }
  ],
  "metadata": {
    "colab": {
      "collapsed_sections": [],
      "provenance": [],
      "toc_visible": true,
      "include_colab_link": true
    },
    "kernelspec": {
      "display_name": "Python 3",
      "name": "python3"
    },
    "language_info": {
      "name": "python"
    }
  },
  "nbformat": 4,
  "nbformat_minor": 0
}