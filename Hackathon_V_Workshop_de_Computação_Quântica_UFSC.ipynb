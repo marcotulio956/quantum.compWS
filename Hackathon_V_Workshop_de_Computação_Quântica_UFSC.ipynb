{
  "cells": [
    {
      "cell_type": "markdown",
      "metadata": {
        "colab_type": "text",
        "id": "view-in-github"
      },
      "source": [
        "<a href=\"https://colab.research.google.com/github/marcotulio956/quantum.compWS/blob/master/Hackathon_V_Workshop_de_Computa%C3%A7%C3%A3o_Qu%C3%A2ntica_UFSC.ipynb\" target=\"_parent\"><img src=\"https://colab.research.google.com/assets/colab-badge.svg\" alt=\"Open In Colab\"/></a>"
      ]
    },
    {
      "cell_type": "markdown",
      "metadata": {
        "id": "2sZxD-WzHVw7"
      },
      "source": [
        "# [Hackathon - V Workshop de Computação Quântica - UFSC](https://workshop-cq.ufsc.br/2022/#hackathon)\n",
        "\n"
      ]
    },
    {
      "cell_type": "code",
      "execution_count": 5,
      "metadata": {
        "colab": {
          "base_uri": "https://localhost:8080/"
        },
        "id": "dTm2HP2TrSGs",
        "outputId": "dc82b4a1-9046-4eca-b5f2-75fcc70e857a"
      },
      "outputs": [
        {
          "name": "stdout",
          "output_type": "stream",
          "text": [
            "Ket 0.4.1.post1\n"
          ]
        }
      ],
      "source": [
        "!pip install git+https://gitlab.com/evandro-crr/shor-ket.git -q\n",
        "!ket --version\n",
        "from ket import *"
      ]
    },
    {
      "cell_type": "markdown",
      "metadata": {
        "id": "59P0dM44H9Br"
      },
      "source": [
        "----------------\n",
        "Exemplo de implementação da sub-rotina quântica do algoritmo de fatoração de Shor."
      ]
    },
    {
      "cell_type": "code",
      "execution_count": 6,
      "metadata": {
        "id": "hof54zYztyOY"
      },
      "outputs": [],
      "source": [
        "def quantum_subroutine_example(N, x):\n",
        "    from ket.lib import qft\n",
        "    from ket.plugins import pown\n",
        "    from functools import reduce\n",
        "    from math import gcd\n",
        "\n",
        "    n = N.bit_length()\n",
        "\n",
        "    def subroutine():\n",
        "        reg1 = H(quant(n))\n",
        "        reg2 = pown(x, reg1, N) # Lembre que não é premitido usar o plugin pown\n",
        "        adj(qft, reg1)\n",
        "        return measure(reg1).value\n",
        "\n",
        "    r = reduce(gcd, [subroutine() for _ in range(n)])\n",
        "    return 2**n//r"
      ]
    },
    {
      "cell_type": "markdown",
      "metadata": {
        "id": "V8hT-N1iIMDV"
      },
      "source": [
        "-------------"
      ]
    },
    {
      "cell_type": "code",
      "execution_count": 13,
      "metadata": {
        "colab": {
          "base_uri": "https://localhost:8080/"
        },
        "id": "K-_t4KWiIRoK",
        "outputId": "8215618f-885f-4c72-e898-c815ebdd8536"
      },
      "outputs": [
        {
          "ename": "ValueError",
          "evalue": "773 is prime",
          "output_type": "error",
          "traceback": [
            "\u001b[1;31m---------------------------------------------------------------------------\u001b[0m",
            "\u001b[1;31mValueError\u001b[0m                                Traceback (most recent call last)",
            "\u001b[1;32mc:\\Users\\Mark\\Documents\\MEGAsync\\CEFET\\quantum.progWS\\Hackathon_V_Workshop_de_Computação_Quântica_UFSC.ipynb Zelle 7\u001b[0m in \u001b[0;36m<cell line: 5>\u001b[1;34m()\u001b[0m\n\u001b[0;32m      <a href='vscode-notebook-cell:/c%3A/Users/Mark/Documents/MEGAsync/CEFET/quantum.progWS/Hackathon_V_Workshop_de_Computa%C3%A7%C3%A3o_Qu%C3%A2ntica_UFSC.ipynb#W6sZmlsZQ%3D%3D?line=1'>2</a>\u001b[0m \u001b[39mfrom\u001b[39;00m \u001b[39mshor\u001b[39;00m \u001b[39mimport\u001b[39;00m shor\n\u001b[0;32m      <a href='vscode-notebook-cell:/c%3A/Users/Mark/Documents/MEGAsync/CEFET/quantum.progWS/Hackathon_V_Workshop_de_Computa%C3%A7%C3%A3o_Qu%C3%A2ntica_UFSC.ipynb#W6sZmlsZQ%3D%3D?line=3'>4</a>\u001b[0m N \u001b[39m=\u001b[39m \u001b[39m773\u001b[39m\n\u001b[1;32m----> <a href='vscode-notebook-cell:/c%3A/Users/Mark/Documents/MEGAsync/CEFET/quantum.progWS/Hackathon_V_Workshop_de_Computa%C3%A7%C3%A3o_Qu%C3%A2ntica_UFSC.ipynb#W6sZmlsZQ%3D%3D?line=4'>5</a>\u001b[0m p \u001b[39m=\u001b[39m shor(N, quantum_subroutine_example, quantum\u001b[39m=\u001b[39;49m\u001b[39mTrue\u001b[39;49;00m, verbose\u001b[39m=\u001b[39;49m\u001b[39mTrue\u001b[39;49;00m)\n\u001b[0;32m      <a href='vscode-notebook-cell:/c%3A/Users/Mark/Documents/MEGAsync/CEFET/quantum.progWS/Hackathon_V_Workshop_de_Computa%C3%A7%C3%A3o_Qu%C3%A2ntica_UFSC.ipynb#W6sZmlsZQ%3D%3D?line=5'>6</a>\u001b[0m q \u001b[39m=\u001b[39m N\u001b[39m/\u001b[39m\u001b[39m/\u001b[39mp\n\u001b[0;32m      <a href='vscode-notebook-cell:/c%3A/Users/Mark/Documents/MEGAsync/CEFET/quantum.progWS/Hackathon_V_Workshop_de_Computa%C3%A7%C3%A3o_Qu%C3%A2ntica_UFSC.ipynb#W6sZmlsZQ%3D%3D?line=6'>7</a>\u001b[0m \u001b[39massert\u001b[39;00m(N \u001b[39m==\u001b[39m p \u001b[39m*\u001b[39m q)\n",
            "File \u001b[1;32mc:\\Users\\Mark\\Documents\\MEGAsync\\CEFET\\quantum.progWS\\shor.py:140\u001b[0m, in \u001b[0;36mshor\u001b[1;34m(N, quantum_subroutine, quantum, seed, verbose, _timezone)\u001b[0m\n\u001b[0;32m    138\u001b[0m     \u001b[39mreturn\u001b[39;00m factor\n\u001b[0;32m    139\u001b[0m \u001b[39melif\u001b[39;00m is_prime(N):\n\u001b[1;32m--> 140\u001b[0m     \u001b[39mraise\u001b[39;00m \u001b[39mValueError\u001b[39;00m(\u001b[39mf\u001b[39m\u001b[39m\"\u001b[39m\u001b[39m{\u001b[39;00mN\u001b[39m}\u001b[39;00m\u001b[39m is prime\u001b[39m\u001b[39m\"\u001b[39m)\n\u001b[0;32m    141\u001b[0m \u001b[39melse\u001b[39;00m:\n\u001b[0;32m    142\u001b[0m     \u001b[39mraise\u001b[39;00m \u001b[39mRuntimeError\u001b[39;00m(\u001b[39mf\u001b[39m\u001b[39m\"\u001b[39m\u001b[39mfails to factor \u001b[39m\u001b[39m{\u001b[39;00mN\u001b[39m}\u001b[39;00m\u001b[39m\"\u001b[39m)\n",
            "\u001b[1;31mValueError\u001b[0m: 773 is prime"
          ]
        }
      ],
      "source": [
        "# Esta célula será usada para avaliar sua solução\n",
        "from shor import shor\n",
        "\n",
        "N = 745\n",
        "p = shor(N, quantum_subroutine_example, quantum=True, verbose=True)\n",
        "q = N//p\n",
        "assert(N == p * q)"
      ]
    },
    {
      "cell_type": "code",
      "execution_count": 10,
      "metadata": {
        "id": "x0Db6LyhIzoG"
      },
      "outputs": [],
      "source": [
        "from shor import is_prime\n",
        "assert(is_prime(p) and is_prime(q))"
      ]
    }
  ],
  "metadata": {
    "colab": {
      "collapsed_sections": [],
      "include_colab_link": true,
      "provenance": [],
      "toc_visible": true
    },
    "kernelspec": {
      "display_name": "Python 3.10.5 64-bit",
      "language": "python",
      "name": "python3"
    },
    "language_info": {
      "codemirror_mode": {
        "name": "ipython",
        "version": 3
      },
      "file_extension": ".py",
      "mimetype": "text/x-python",
      "name": "python",
      "nbconvert_exporter": "python",
      "pygments_lexer": "ipython3",
      "version": "3.10.5"
    },
    "vscode": {
      "interpreter": {
        "hash": "bebf9730dc43cfbc35fb329a82a69476f49cde6de038a2bbfc26f12404ad85fb"
      }
    }
  },
  "nbformat": 4,
  "nbformat_minor": 0
}
