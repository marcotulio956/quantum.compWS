{
  "cells": [
    {
      "cell_type": "markdown",
      "metadata": {
        "colab_type": "text",
        "id": "view-in-github"
      },
      "source": [
        "<a href=\"https://colab.research.google.com/github/marcotulio956/quantum.compWS/blob/master/Hackathon_V_Workshop_de_Computa%C3%A7%C3%A3o_Qu%C3%A2ntica_UFSC.ipynb\" target=\"_parent\"><img src=\"https://colab.research.google.com/assets/colab-badge.svg\" alt=\"Open In Colab\"/></a>"
      ]
    },
    {
      "cell_type": "markdown",
      "metadata": {
        "id": "2sZxD-WzHVw7"
      },
      "source": [
        "# [Hackathon - V Workshop de Computação Quântica - UFSC](https://workshop-cq.ufsc.br/2022/#hackathon)\n",
        "\n"
      ]
    },
    {
      "cell_type": "markdown",
      "metadata": {
        "id": "59P0dM44H9Br"
      },
      "source": [
        "----------------\n",
        "Exemplo de implementação da sub-rotina quântica do algoritmo de fatoração de Shor."
      ]
    },
    {
      "cell_type": "code",
      "execution_count": null,
      "metadata": {
        "colab": {
          "base_uri": "https://localhost:8080/"
        },
        "id": "dTm2HP2TrSGs",
        "outputId": "dc82b4a1-9046-4eca-b5f2-75fcc70e857a"
      },
      "outputs": [],
      "source": [
        "#!pip install git+https://gitlab.com/evandro-crr/shor-ket.git -q\n",
        "!ket --version\n",
        "from ket import *"
      ]
    },
    {
      "cell_type": "code",
      "execution_count": null,
      "metadata": {
        "id": "hof54zYztyOY"
      },
      "outputs": [],
      "source": [
        "def quantum_subroutine_example(N, x):\n",
        "    from ket.lib import qft\n",
        "    from ket.plugins import pown\n",
        "    from functools import reduce\n",
        "    from math import gcd\n",
        "\n",
        "    n = N.bit_length()\n",
        "\n",
        "    def subroutine():\n",
        "        reg1 = H(quant(n))\n",
        "        reg2 = pown(x, reg1, N) # Lembre que não é premitido usar o plugin pown\n",
        "        adj(qft, reg1)\n",
        "        return measure(reg1).value\n",
        "\n",
        "    r = reduce(gcd, [subroutine() for _ in range(n)])\n",
        "    return 2**n//r"
      ]
    },
    {
      "cell_type": "markdown",
      "metadata": {
        "id": "V8hT-N1iIMDV"
      },
      "source": [
        "-------------"
      ]
    },
    {
      "cell_type": "markdown",
      "metadata": {},
      "source": [
        "### Solução Desenvolvida "
      ]
    },
    {
      "cell_type": "code",
      "execution_count": null,
      "metadata": {},
      "outputs": [],
      "source": [
        "from QSet import *\n",
        "\n",
        "# examples\n",
        "# QSet.gcd(8,4)\n",
        "# QSet.shors_quantum_subroutine(4,3)"
      ]
    },
    {
      "cell_type": "code",
      "execution_count": 9,
      "metadata": {
        "colab": {
          "base_uri": "https://localhost:8080/"
        },
        "id": "K-_t4KWiIRoK",
        "outputId": "8215618f-885f-4c72-e898-c815ebdd8536"
      },
      "outputs": [
        {
          "ename": "KeyboardInterrupt",
          "evalue": "",
          "output_type": "error",
          "traceback": [
            "\u001b[1;31m---------------------------------------------------------------------------\u001b[0m",
            "\u001b[1;31mKeyboardInterrupt\u001b[0m                         Traceback (most recent call last)",
            "\u001b[1;32mc:\\Users\\Mark\\Documents\\MEGAsync\\CEFET\\quantum.progWS\\Hackathon_V_Workshop_de_Computação_Quântica_UFSC.ipynb Zelle 9\u001b[0m in \u001b[0;36m<cell line: 7>\u001b[1;34m()\u001b[0m\n\u001b[0;32m      <a href='vscode-notebook-cell:/c%3A/Users/Mark/Documents/MEGAsync/CEFET/quantum.progWS/Hackathon_V_Workshop_de_Computa%C3%A7%C3%A3o_Qu%C3%A2ntica_UFSC.ipynb#X11sZmlsZQ%3D%3D?line=3'>4</a>\u001b[0m N \u001b[39m=\u001b[39m \u001b[39m521\u001b[39m\u001b[39m*\u001b[39m\t\u001b[39m523\u001b[39m\t\n\u001b[0;32m      <a href='vscode-notebook-cell:/c%3A/Users/Mark/Documents/MEGAsync/CEFET/quantum.progWS/Hackathon_V_Workshop_de_Computa%C3%A7%C3%A3o_Qu%C3%A2ntica_UFSC.ipynb#X11sZmlsZQ%3D%3D?line=5'>6</a>\u001b[0m \u001b[39m#p = shor(N, quantum_subroutine_example, quantum=True, verbose=True)\u001b[39;00m\n\u001b[1;32m----> <a href='vscode-notebook-cell:/c%3A/Users/Mark/Documents/MEGAsync/CEFET/quantum.progWS/Hackathon_V_Workshop_de_Computa%C3%A7%C3%A3o_Qu%C3%A2ntica_UFSC.ipynb#X11sZmlsZQ%3D%3D?line=6'>7</a>\u001b[0m p \u001b[39m=\u001b[39m shor(N, QSet\u001b[39m.\u001b[39;49mshors_quantum_subroutine, quantum\u001b[39m=\u001b[39;49m\u001b[39mTrue\u001b[39;49;00m, verbose\u001b[39m=\u001b[39;49m\u001b[39mTrue\u001b[39;49;00m)\n\u001b[0;32m      <a href='vscode-notebook-cell:/c%3A/Users/Mark/Documents/MEGAsync/CEFET/quantum.progWS/Hackathon_V_Workshop_de_Computa%C3%A7%C3%A3o_Qu%C3%A2ntica_UFSC.ipynb#X11sZmlsZQ%3D%3D?line=7'>8</a>\u001b[0m q \u001b[39m=\u001b[39m N\u001b[39m/\u001b[39m\u001b[39m/\u001b[39mp\n\u001b[0;32m      <a href='vscode-notebook-cell:/c%3A/Users/Mark/Documents/MEGAsync/CEFET/quantum.progWS/Hackathon_V_Workshop_de_Computa%C3%A7%C3%A3o_Qu%C3%A2ntica_UFSC.ipynb#X11sZmlsZQ%3D%3D?line=8'>9</a>\u001b[0m \u001b[39massert\u001b[39;00m(N \u001b[39m==\u001b[39m p \u001b[39m*\u001b[39m q)\n",
            "File \u001b[1;32mc:\\Users\\Mark\\Documents\\MEGAsync\\CEFET\\quantum.progWS\\shor.py:116\u001b[0m, in \u001b[0;36mshor\u001b[1;34m(N, quantum_subroutine, quantum, seed, verbose, _timezone)\u001b[0m\n\u001b[0;32m    113\u001b[0m     \u001b[39melif\u001b[39;00m gcd_x_N \u001b[39m==\u001b[39m \u001b[39m1\u001b[39m:\n\u001b[0;32m    114\u001b[0m         \u001b[39mbreak\u001b[39;00m\n\u001b[1;32m--> 116\u001b[0m r \u001b[39m=\u001b[39m quantum_subroutine(N, x)\n\u001b[0;32m    118\u001b[0m \u001b[39mif\u001b[39;00m r \u001b[39m%\u001b[39m \u001b[39m2\u001b[39m \u001b[39m==\u001b[39m \u001b[39m0\u001b[39m \u001b[39mand\u001b[39;00m \u001b[39mpow\u001b[39m(x, r\u001b[39m/\u001b[39m\u001b[39m/\u001b[39m\u001b[39m2\u001b[39m) \u001b[39m!=\u001b[39m \u001b[39m-\u001b[39m\u001b[39m1\u001b[39m \u001b[39m%\u001b[39m N:\n\u001b[0;32m    119\u001b[0m     p \u001b[39m=\u001b[39m gcd(x\u001b[39m*\u001b[39m\u001b[39m*\u001b[39m(r\u001b[39m/\u001b[39m\u001b[39m/\u001b[39m\u001b[39m2\u001b[39m)\u001b[39m-\u001b[39m\u001b[39m1\u001b[39m, N)\n",
            "File \u001b[1;32mc:\\Users\\Mark\\Documents\\MEGAsync\\CEFET\\quantum.progWS\\QSet.py:51\u001b[0m, in \u001b[0;36mQSet.shors_quantum_subroutine\u001b[1;34m(N, x)\u001b[0m\n\u001b[0;32m     48\u001b[0m     \u001b[39mreturn\u001b[39;00m measure(reg1)\u001b[39m.\u001b[39mvalue\n\u001b[0;32m     50\u001b[0m \u001b[39mfrom\u001b[39;00m \u001b[39mmath\u001b[39;00m \u001b[39mimport\u001b[39;00m gcd\n\u001b[1;32m---> 51\u001b[0m r \u001b[39m=\u001b[39m reduce(gcd, [subroutine() \u001b[39mfor\u001b[39;00m _ \u001b[39min\u001b[39;00m \u001b[39mrange\u001b[39m(n)])\n\u001b[0;32m     52\u001b[0m \u001b[39mreturn\u001b[39;00m \u001b[39m2\u001b[39m\u001b[39m*\u001b[39m\u001b[39m*\u001b[39mn\u001b[39m/\u001b[39m\u001b[39m/\u001b[39mr\n",
            "File \u001b[1;32mc:\\Users\\Mark\\Documents\\MEGAsync\\CEFET\\quantum.progWS\\QSet.py:51\u001b[0m, in \u001b[0;36m<listcomp>\u001b[1;34m(.0)\u001b[0m\n\u001b[0;32m     48\u001b[0m     \u001b[39mreturn\u001b[39;00m measure(reg1)\u001b[39m.\u001b[39mvalue\n\u001b[0;32m     50\u001b[0m \u001b[39mfrom\u001b[39;00m \u001b[39mmath\u001b[39;00m \u001b[39mimport\u001b[39;00m gcd\n\u001b[1;32m---> 51\u001b[0m r \u001b[39m=\u001b[39m reduce(gcd, [subroutine() \u001b[39mfor\u001b[39;00m _ \u001b[39min\u001b[39;00m \u001b[39mrange\u001b[39m(n)])\n\u001b[0;32m     52\u001b[0m \u001b[39mreturn\u001b[39;00m \u001b[39m2\u001b[39m\u001b[39m*\u001b[39m\u001b[39m*\u001b[39mn\u001b[39m/\u001b[39m\u001b[39m/\u001b[39mr\n",
            "File \u001b[1;32mc:\\Users\\Mark\\Documents\\MEGAsync\\CEFET\\quantum.progWS\\QSet.py:48\u001b[0m, in \u001b[0;36mQSet.shors_quantum_subroutine.<locals>.subroutine\u001b[1;34m()\u001b[0m\n\u001b[0;32m     46\u001b[0m reg2 \u001b[39m=\u001b[39m reg2 \u001b[39m-\u001b[39m (reg2\u001b[39m/\u001b[39m\u001b[39m/\u001b[39mN \u001b[39m*\u001b[39m N)\n\u001b[0;32m     47\u001b[0m adj(qft, reg1)\n\u001b[1;32m---> 48\u001b[0m \u001b[39mreturn\u001b[39;00m measure(reg1)\u001b[39m.\u001b[39;49mvalue\n",
            "File \u001b[1;32mc:\\Users\\Mark\\AppData\\Local\\Programs\\Python\\Python310\\lib\\site-packages\\ket\\base.py:235\u001b[0m, in \u001b[0;36mfuture.__getattr__\u001b[1;34m(self, name)\u001b[0m\n\u001b[0;32m    233\u001b[0m \u001b[39mif\u001b[39;00m \u001b[39mself\u001b[39m\u001b[39m.\u001b[39m_value \u001b[39mis\u001b[39;00m \u001b[39mNone\u001b[39;00m:\n\u001b[0;32m    234\u001b[0m     \u001b[39mif\u001b[39;00m \u001b[39mnot\u001b[39;00m \u001b[39mself\u001b[39m\u001b[39m.\u001b[39mavailable:\n\u001b[1;32m--> 235\u001b[0m         exec_quantum()\n\u001b[0;32m    236\u001b[0m     \u001b[39mself\u001b[39m\u001b[39m.\u001b[39m_value \u001b[39m=\u001b[39m \u001b[39mself\u001b[39m\u001b[39m.\u001b[39mbase\u001b[39m.\u001b[39mvalue()\u001b[39m.\u001b[39mvalue\n\u001b[0;32m    237\u001b[0m \u001b[39mreturn\u001b[39;00m \u001b[39mself\u001b[39m\u001b[39m.\u001b[39m_value\n",
            "File \u001b[1;32mc:\\Users\\Mark\\AppData\\Local\\Programs\\Python\\Python310\\lib\\site-packages\\ket\\base.py:693\u001b[0m, in \u001b[0;36mexec_quantum\u001b[1;34m()\u001b[0m\n\u001b[0;32m    691\u001b[0m error \u001b[39m=\u001b[39m \u001b[39mNone\u001b[39;00m\n\u001b[0;32m    692\u001b[0m \u001b[39mtry\u001b[39;00m:\n\u001b[1;32m--> 693\u001b[0m     quantum_execution_target(process_end())\n\u001b[0;32m    694\u001b[0m \u001b[39mexcept\u001b[39;00m \u001b[39mException\u001b[39;00m \u001b[39mas\u001b[39;00m e:\n\u001b[0;32m    695\u001b[0m     error \u001b[39m=\u001b[39m e\n",
            "File \u001b[1;32mc:\\Users\\Mark\\AppData\\Local\\Programs\\Python\\Python310\\lib\\site-packages\\ket\\clib\\kbw.py:79\u001b[0m, in \u001b[0;36mrun_and_set_result\u001b[1;34m(process)\u001b[0m\n\u001b[0;32m     76\u001b[0m \u001b[39melse\u001b[39;00m:\n\u001b[0;32m     77\u001b[0m     sim_mode \u001b[39m=\u001b[39m SPARSE\n\u001b[1;32m---> 79\u001b[0m API[\u001b[39m'\u001b[39;49m\u001b[39mkbw_run_and_set_result\u001b[39;49m\u001b[39m'\u001b[39;49m](process, sim_mode)\n",
            "File \u001b[1;32mc:\\Users\\Mark\\AppData\\Local\\Programs\\Python\\Python310\\lib\\site-packages\\ket\\clib\\wrapper.py:43\u001b[0m, in \u001b[0;36mAPIWrapper.__call__\u001b[1;34m(self, *args)\u001b[0m\n\u001b[0;32m     41\u001b[0m \u001b[39mdef\u001b[39;00m \u001b[39m__call__\u001b[39m(\u001b[39mself\u001b[39m, \u001b[39m*\u001b[39margs):\n\u001b[0;32m     42\u001b[0m     out \u001b[39m=\u001b[39m [c_type() \u001b[39mfor\u001b[39;00m c_type \u001b[39min\u001b[39;00m \u001b[39mself\u001b[39m\u001b[39m.\u001b[39moutput]\n\u001b[1;32m---> 43\u001b[0m     error_code \u001b[39m=\u001b[39m \u001b[39mself\u001b[39;49m\u001b[39m.\u001b[39;49mc_call(\u001b[39m*\u001b[39;49margs, \u001b[39m*\u001b[39;49mout)\n\u001b[0;32m     44\u001b[0m     \u001b[39mif\u001b[39;00m error_code \u001b[39m!=\u001b[39m \u001b[39m0\u001b[39m:\n\u001b[0;32m     45\u001b[0m         size \u001b[39m=\u001b[39m c_size_t()\n",
            "\u001b[1;31mKeyboardInterrupt\u001b[0m: "
          ]
        }
      ],
      "source": [
        "# Esta célula será usada para avaliar sua solução\n",
        "from shor import shor\n",
        "\n",
        "N = 449 *\t457\n",
        "\n",
        "#p = shor(N, quantum_subroutine_example, quantum=True, verbose=True)\n",
        "p = shor(N, QSet.shors_quantum_subroutine, quantum=True, verbose=True)\n",
        "q = N//p\n",
        "assert(N == p * q)"
      ]
    },
    {
      "cell_type": "code",
      "execution_count": null,
      "metadata": {
        "id": "x0Db6LyhIzoG"
      },
      "outputs": [],
      "source": [
        "from shor import is_prime\n",
        "assert(is_prime(p) and is_prime(q))"
      ]
    }
  ],
  "metadata": {
    "colab": {
      "collapsed_sections": [],
      "include_colab_link": true,
      "provenance": [],
      "toc_visible": true
    },
    "kernelspec": {
      "display_name": "Python 3.10.5 64-bit",
      "language": "python",
      "name": "python3"
    },
    "language_info": {
      "codemirror_mode": {
        "name": "ipython",
        "version": 3
      },
      "file_extension": ".py",
      "mimetype": "text/x-python",
      "name": "python",
      "nbconvert_exporter": "python",
      "pygments_lexer": "ipython3",
      "version": "3.10.5"
    },
    "vscode": {
      "interpreter": {
        "hash": "bebf9730dc43cfbc35fb329a82a69476f49cde6de038a2bbfc26f12404ad85fb"
      }
    }
  },
  "nbformat": 4,
  "nbformat_minor": 0
}
